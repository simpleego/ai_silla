{
 "cells": [
  {
   "cell_type": "markdown",
   "metadata": {},
   "source": [
    "<a href=\"https://colab.research.google.com/github/wikibook/machine-learning/blob/2.0/jupyter_notebook/6.2_LSTM_지문을_읽고_주제_분류하기.ipynb\" target=\"_parent\"><img src=\"https://colab.research.google.com/assets/colab-badge.svg\" alt=\"Open In Colab\"/></a>"
   ]
  },
  {
   "cell_type": "markdown",
   "metadata": {},
   "source": [
    "# LSTM으로 지문을 읽어서 주제를 분류하기"
   ]
  },
  {
   "cell_type": "code",
   "execution_count": 2,
   "metadata": {},
   "outputs": [],
   "source": [
    "from __future__ import absolute_import, division, print_function, unicode_literals\n",
    "\n",
    "try:\n",
    "  %tensorflow_version 2.x\n",
    "except Exception:\n",
    "  pass"
   ]
  },
  {
   "cell_type": "code",
   "execution_count": 3,
   "metadata": {},
   "outputs": [],
   "source": [
    "from IPython.display import Image\n",
    "\n",
    "import tensorflow as tf\n",
    "from tensorflow.keras.layers import Input, Dense, LSTM, Embedding\n",
    "from tensorflow.keras.models import Model\n",
    "from tensorflow.keras.models import Sequential\n",
    "from tensorflow.keras.preprocessing.text import one_hot\n",
    "from tensorflow.keras.preprocessing.sequence import pad_sequences\n",
    "import numpy as np\n",
    "import pandas as pd\n",
    "\n",
    "# 항상 같은 결과를 갖기 위해 랜덤 시드 설정\n",
    "tf.random.set_seed(1)\n",
    "np.random.seed(1)"
   ]
  },
  {
   "cell_type": "markdown",
   "metadata": {},
   "source": [
    "LSTM을 사용하여 각 지문의 주제를 분류하는 예제를 다뤄보겠습니다.  \n",
    "아래 실습을 위해 입력값을 팬더스 데이터프레임에 저장합니다."
   ]
  },
  {
   "cell_type": "code",
   "execution_count": 4,
   "metadata": {},
   "outputs": [],
   "source": [
    "paragraph_dict_list = [\n",
    "         {'paragraph': 'dishplace is located in sunnyvale downtown there is parking around the area but it can be difficult to find during peak business hours my sisters and i came to this place for dinner on a weekday they were really busy so i highly recommended making reservations unless you have the patience to wait', 'category': 'food'},\n",
    "         {'paragraph': 'service can be slower during busy hours but our waiter was courteous and help gave some great entree recommendations', 'category': 'food'},\n",
    "         {'paragraph': 'portions are huge both french toast and their various omelettes are really good their french toast is probably 1.5x more than other brunch places great place to visit if you are hungry and dont want to wait 1 hour for a table', 'category': 'food'},\n",
    "         {'paragraph': 'we started with apps going the chicken and waffle slides and chicken nachos the sliders were amazing and the nachos were good too maybe by themselves the nachos would have scored better but after those sliders they were up against some tough competition', 'category': 'food'},\n",
    "         {'paragraph': 'the biscuits and gravy was too salty two people in my group had the gravy and all thought it was too salty my hubby ordered a side of double egg and it was served on two small plates who serves eggs to one person on separate plates we commented on that when it was delivered and even the server laughed and said she doesnt know why the kitchen does that presentation of food is important and they really missed on this one', 'category': 'food'},\n",
    "         {'paragraph': 'the garlic fries were a great starter (and a happy hour special) the pancakes looked and tasted great and were a fairly generous portion', 'category': 'food'},\n",
    "         {'paragraph': 'our meal was excellent i had the pasta ai formaggi which was so rich i didnt dare eat it all although i certainly wanted to excellent flavors with a great texture contrast between the soft pasta and the crisp bread crumbs too much sauce for me but a wonderful dish', 'category': 'food'},\n",
    "         {'paragraph': 'what i enjoy most about palo alto is so many restaurants have dog-friendly seating outside i had bookmarked italico from when they first opened about a 1.5 years ago and was jonesing for some pasta so time to finally knock that bookmark off', 'category': 'food'},\n",
    "         {'paragraph': 'the drinks came out fairly quickly a good two to three minutes after the orders were taken i expected my iced tea to taste a bit more sweet but this was straight up green tea with ice in it not to complain of course but i was pleasantly surprised', 'category': 'food'},\n",
    "         {'paragraph': 'despite the not so good burger the service was so slow the restaurant wasnt even half full and they took very long from the moment we got seated to the time we left it was almost 2 hours we thought that it would be quick since we ordered as soon as we sat down my coworkers did seem to enjoy their beef burgers for those who eat beef however i will not be returning it is too expensive and extremely slow service', 'category': 'food'},\n",
    "    \n",
    "         {'paragraph': 'the four reigning major champions simona halep caroline wozniacki angelique kerber and defending us open champion sloane stephens could make a case for being the quartet most likely to succeed especially as all but stephens has also enjoyed the no1 ranking within the last 14 months as they prepare for their gruelling new york campaigns they currently hold the top four places in the ranks', 'category': 'sports'},\n",
    "         {'paragraph': 'the briton was seeded nn7 here last year before a slump in form and confidence took her down to no46 after five first-round losses but there have been signs of a turnaround including a victory over a sub-par serena williams in san jose plus wins against jelena ostapenko and victoria azarenka in montreal. konta pulled out of new haven this week with illness but will hope for good things where she first scored wins in a major before her big breakthroughs to the semis in australia and wimbledon', 'category': 'sports'},\n",
    "         {'paragraph': 'stephens surged her way back from injury in stunning style to win her first major here last year—and ranked just no83 she has since proved what a big time player she is winning the miami title via four fellow major champions then reaching the final at the french open back on north american hard courts she ran to the final in montreal only just edged out by halep she has also avoided many of the big names in her quarter—except for wild card azarenka as a possible in the third round', 'category': 'sports'},\n",
    "         {'paragraph': 'when it came to england chances in the world cup it would be fair to say that most fans had never been more pessimistic than they were this year after enduring years of truly dismal performances at major tournaments – culminating in the 2014 event where they failed to win any of their three group games and finished in bottom spot those results led to the resignation of manager roy hodgson', 'category': 'sports'},\n",
    "         {'paragraph': 'the team that eliminated russia – croatia – also improved enormously during the tournament before it began their odds were 33/1 but they played with real flair and star players like luka modric ivan rakitic and ivan perisic showed their quality on the world stage having displayed their potential by winning all three of their group stage games croatia went on to face difficult tests like the semi-final against england', 'category': 'sports'},\n",
    "         {'paragraph': 'the perseyside outfit finished in fourth place in the premier league table and without a trophy last term after having reached the champions league final before losing to real madrid', 'category': 'sports'},\n",
    "         {'paragraph': 'liverpool fc will return to premier league action on saturday lunchtime when they travel to leicester city in the top flight as they look to make it four wins in a row in the league', 'category': 'sports'},\n",
    "         {'paragraph': 'alisson signed for liverpool fc from as roma this summer and the brazilian goalkeeper has helped the reds to keep three clean sheets in their first three premier league games', 'category': 'sports'},\n",
    "         {'paragraph': 'but the rankings during that run-in to new york hid some very different undercurrents for murray had struggled with a hip injury since the clay swing and had not played a match since losing his quarter-final at wimbledon and he would pull out of the us open just two days before the tournament began—too late however to promote nederer to the no2 seeding', 'category': 'sports'},\n",
    "         {'paragraph': 'then came the oh-so-familiar djokovic-nadal no-quarter-given battle for dominance in the third set there were exhilarating rallies with both chasing to the net both retrieving what looked like winning shots nadal more than once pulled off a reverse smash and had his chance to seal the tie-break but it was djokovic serving at 10-9 who dragged one decisive error from nadal for a two-sets lead', 'category': 'sports'}\n",
    "]\n",
    "df = pd.DataFrame(paragraph_dict_list)\n",
    "df = df[['paragraph', 'category']]"
   ]
  },
  {
   "cell_type": "markdown",
   "metadata": {},
   "source": [
    "주제가 **음식**인 지문을 몇개 출력해보도록 하겠습니다."
   ]
  },
  {
   "cell_type": "code",
   "execution_count": 5,
   "metadata": {},
   "outputs": [
    {
     "data": {
      "text/html": [
       "<div>\n",
       "<style scoped>\n",
       "    .dataframe tbody tr th:only-of-type {\n",
       "        vertical-align: middle;\n",
       "    }\n",
       "\n",
       "    .dataframe tbody tr th {\n",
       "        vertical-align: top;\n",
       "    }\n",
       "\n",
       "    .dataframe thead th {\n",
       "        text-align: right;\n",
       "    }\n",
       "</style>\n",
       "<table border=\"1\" class=\"dataframe\">\n",
       "  <thead>\n",
       "    <tr style=\"text-align: right;\">\n",
       "      <th></th>\n",
       "      <th>paragraph</th>\n",
       "      <th>category</th>\n",
       "    </tr>\n",
       "  </thead>\n",
       "  <tbody>\n",
       "    <tr>\n",
       "      <th>0</th>\n",
       "      <td>dishplace is located in sunnyvale downtown the...</td>\n",
       "      <td>food</td>\n",
       "    </tr>\n",
       "    <tr>\n",
       "      <th>1</th>\n",
       "      <td>service can be slower during busy hours but ou...</td>\n",
       "      <td>food</td>\n",
       "    </tr>\n",
       "    <tr>\n",
       "      <th>2</th>\n",
       "      <td>portions are huge both french toast and their ...</td>\n",
       "      <td>food</td>\n",
       "    </tr>\n",
       "    <tr>\n",
       "      <th>3</th>\n",
       "      <td>we started with apps going the chicken and waf...</td>\n",
       "      <td>food</td>\n",
       "    </tr>\n",
       "    <tr>\n",
       "      <th>4</th>\n",
       "      <td>the biscuits and gravy was too salty two peopl...</td>\n",
       "      <td>food</td>\n",
       "    </tr>\n",
       "  </tbody>\n",
       "</table>\n",
       "</div>"
      ],
      "text/plain": [
       "                                           paragraph category\n",
       "0  dishplace is located in sunnyvale downtown the...     food\n",
       "1  service can be slower during busy hours but ou...     food\n",
       "2  portions are huge both french toast and their ...     food\n",
       "3  we started with apps going the chicken and waf...     food\n",
       "4  the biscuits and gravy was too salty two peopl...     food"
      ]
     },
     "execution_count": 5,
     "metadata": {},
     "output_type": "execute_result"
    }
   ],
   "source": [
    "df.head()"
   ]
  },
  {
   "cell_type": "markdown",
   "metadata": {},
   "source": [
    "주제가 **스포츠**인 지문을 몇개 출력해보도록 하겠습니다."
   ]
  },
  {
   "cell_type": "code",
   "execution_count": 6,
   "metadata": {},
   "outputs": [
    {
     "data": {
      "text/html": [
       "<div>\n",
       "<style scoped>\n",
       "    .dataframe tbody tr th:only-of-type {\n",
       "        vertical-align: middle;\n",
       "    }\n",
       "\n",
       "    .dataframe tbody tr th {\n",
       "        vertical-align: top;\n",
       "    }\n",
       "\n",
       "    .dataframe thead th {\n",
       "        text-align: right;\n",
       "    }\n",
       "</style>\n",
       "<table border=\"1\" class=\"dataframe\">\n",
       "  <thead>\n",
       "    <tr style=\"text-align: right;\">\n",
       "      <th></th>\n",
       "      <th>paragraph</th>\n",
       "      <th>category</th>\n",
       "    </tr>\n",
       "  </thead>\n",
       "  <tbody>\n",
       "    <tr>\n",
       "      <th>15</th>\n",
       "      <td>the perseyside outfit finished in fourth place...</td>\n",
       "      <td>sports</td>\n",
       "    </tr>\n",
       "    <tr>\n",
       "      <th>16</th>\n",
       "      <td>liverpool fc will return to premier league act...</td>\n",
       "      <td>sports</td>\n",
       "    </tr>\n",
       "    <tr>\n",
       "      <th>17</th>\n",
       "      <td>alisson signed for liverpool fc from as roma t...</td>\n",
       "      <td>sports</td>\n",
       "    </tr>\n",
       "    <tr>\n",
       "      <th>18</th>\n",
       "      <td>but the rankings during that run-in to new yor...</td>\n",
       "      <td>sports</td>\n",
       "    </tr>\n",
       "    <tr>\n",
       "      <th>19</th>\n",
       "      <td>then came the oh-so-familiar djokovic-nadal no...</td>\n",
       "      <td>sports</td>\n",
       "    </tr>\n",
       "  </tbody>\n",
       "</table>\n",
       "</div>"
      ],
      "text/plain": [
       "                                            paragraph category\n",
       "15  the perseyside outfit finished in fourth place...   sports\n",
       "16  liverpool fc will return to premier league act...   sports\n",
       "17  alisson signed for liverpool fc from as roma t...   sports\n",
       "18  but the rankings during that run-in to new yor...   sports\n",
       "19  then came the oh-so-familiar djokovic-nadal no...   sports"
      ]
     },
     "execution_count": 6,
     "metadata": {},
     "output_type": "execute_result"
    }
   ],
   "source": [
    "df.tail()"
   ]
  },
  {
   "cell_type": "markdown",
   "metadata": {},
   "source": [
    "# 데이터 전처리\n",
    "모든 딥러닝 모델들이 수학에 근간하듯이, LSTM 역시 수학을 기반으로한 모델이므로, 입력값을 수치값으로 변경해주어야 합니다."
   ]
  },
  {
   "cell_type": "code",
   "execution_count": 7,
   "metadata": {},
   "outputs": [],
   "source": [
    "def get_vocab_size(df):\n",
    "    \"\"\"\n",
    "    데이터에 사용된 중복 없는 전체 단어 갯수를 리턴합니다.\n",
    "    \"\"\"\n",
    "    results = set()\n",
    "    df['paragraph'].str.lower().str.split().apply(results.update)\n",
    "    return len(results)"
   ]
  },
  {
   "cell_type": "code",
   "execution_count": 8,
   "metadata": {},
   "outputs": [],
   "source": [
    "# 전체 단어 갯수\n",
    "vocab_size = get_vocab_size(df)"
   ]
  },
  {
   "cell_type": "code",
   "execution_count": 11,
   "metadata": {},
   "outputs": [],
   "source": [
    "# 단어를 숫자로 인코딩합니다.\n",
    "paragraphs = df['paragraph'].tolist()\n",
    "encoded_paragraphs = [one_hot(paragraph, vocab_size) for paragraph in paragraphs]"
   ]
  },
  {
   "cell_type": "code",
   "execution_count": 12,
   "metadata": {},
   "outputs": [
    {
     "name": "stdout",
     "output_type": "stream",
     "text": [
      "91\n"
     ]
    }
   ],
   "source": [
    "def get_max_length(df):\n",
    "    \"\"\"\n",
    "    데이터에서 가장 긴 문장의 단어 갯수를 리턴합니다.\n",
    "    \"\"\"\n",
    "    max_length = 0\n",
    "    for row in df['paragraph']:\n",
    "        if len(row.split(\" \")) > max_length:\n",
    "            max_length = len(row.split(\" \"))\n",
    "    return max_length\n",
    "        \n",
    "max_length = get_max_length(df)\n",
    "print (max_length)"
   ]
  },
  {
   "cell_type": "code",
   "execution_count": 13,
   "metadata": {},
   "outputs": [],
   "source": [
    "# 문장마다 단어갯수가 다르므로, 제로 패딩을 넣어줘서 문장의 길이를 동일하게 만듭니다.\n",
    "padded_paragraphs_encoding = pad_sequences(encoded_paragraphs, maxlen=max_length, padding='post')"
   ]
  },
  {
   "cell_type": "code",
   "execution_count": 14,
   "metadata": {},
   "outputs": [
    {
     "data": {
      "text/plain": [
       "array([[ 46, 452, 260, ...,   0,   0,   0],\n",
       "       [113, 468, 249, ...,   0,   0,   0],\n",
       "       [460,  83, 276, ...,   0,   0,   0],\n",
       "       ...,\n",
       "       [ 23, 428, 347, ...,   0,   0,   0],\n",
       "       [307, 372,  58, ...,   0,   0,   0],\n",
       "       [ 28, 428, 372, ...,   0,   0,   0]], dtype=int32)"
      ]
     },
     "execution_count": 14,
     "metadata": {},
     "output_type": "execute_result"
    }
   ],
   "source": [
    "padded_paragraphs_encoding"
   ]
  },
  {
   "cell_type": "code",
   "execution_count": 17,
   "metadata": {},
   "outputs": [],
   "source": [
    "categories = df['category'].tolist()\n",
    "def category_encode(category):\n",
    "    \"\"\"\n",
    "    분류 항목(food, sports) 역시 수치로 변경해야합니다. 분류 항목은 one hot encoding으로 변경합니다.\n",
    "    \"\"\"\n",
    "    if category == 'food':\n",
    "        return [1,0]\n",
    "    else:\n",
    "        return [0,1]\n",
    "encoded_category = [category_encode(category) for category in categories]"
   ]
  },
  {
   "cell_type": "code",
   "execution_count": 18,
   "metadata": {},
   "outputs": [
    {
     "name": "stdout",
     "output_type": "stream",
     "text": [
      "[46, 452, 260, 149, 473, 198, 186, 452, 247, 66, 372, 420, 307, 184, 468, 249, 129, 516, 457, 208, 477, 428, 343, 423, 111, 141, 286, 428, 516, 371, 99, 347, 371, 37, 108, 331, 251, 318, 436, 126, 34, 286, 85, 331, 355, 118, 198, 196, 207, 372, 228, 516, 102]\n",
      "[28, 428, 372, 157, 34, 165, 25, 473, 317, 98, 78, 343, 347, 229, 149, 372, 160, 504, 186, 318, 311, 78, 78, 244, 386, 516, 372, 142, 244, 189, 370, 362, 161, 220, 406, 473, 187, 42, 237, 384, 431, 108, 406, 477, 141, 504, 175, 372, 516, 165, 372, 194, 174, 307, 184, 442, 25, 38, 503, 86, 412, 269, 498, 477, 88, 343, 209, 473, 347, 108, 213, 261, 160]\n"
     ]
    }
   ],
   "source": [
    "# 원 핫 인코딩 예시\n",
    "print(encoded_paragraphs[0])\n",
    "print(encoded_paragraphs[19])"
   ]
  },
  {
   "cell_type": "markdown",
   "metadata": {},
   "source": [
    "# 텐서플로우로 지문을 읽고 주제를 분류하는 모델 구현하기"
   ]
  },
  {
   "cell_type": "markdown",
   "metadata": {},
   "source": [
    "아래 다이어그램 그대로 텐서플로우 모델을 구현해보도록 하겠습니다."
   ]
  },
  {
   "cell_type": "code",
   "execution_count": 19,
   "metadata": {},
   "outputs": [
    {
     "data": {
      "text/html": [
       "<img src=\"https://raw.githubusercontent.com/captainchargers/deeplearning/master/img/lstm_model_overview.png\" width=\"500\" height=\"250\"/>"
      ],
      "text/plain": [
       "<IPython.core.display.Image object>"
      ]
     },
     "execution_count": 19,
     "metadata": {},
     "output_type": "execute_result"
    }
   ],
   "source": [
    "Image(url= \"https://raw.githubusercontent.com/captainchargers/deeplearning/master/img/lstm_model_overview.png\", width=500, height=250)"
   ]
  },
  {
   "cell_type": "code",
   "execution_count": 20,
   "metadata": {},
   "outputs": [],
   "source": [
    "model = Sequential()\n",
    "model.add(Embedding(vocab_size, 5, input_length=max_length))\n",
    "model.add(LSTM(64))\n",
    "model.add(Dense(32, activation='relu'))\n",
    "model.add(Dense(2, activation='softmax'))"
   ]
  },
  {
   "cell_type": "code",
   "execution_count": 21,
   "metadata": {},
   "outputs": [],
   "source": [
    "model.compile(loss='categorical_crossentropy',\n",
    "              optimizer='adam',\n",
    "              metrics=['accuracy'])"
   ]
  },
  {
   "cell_type": "code",
   "execution_count": 22,
   "metadata": {},
   "outputs": [],
   "source": [
    "train_X = np.array(padded_paragraphs_encoding)\n",
    "train_Y = np.array(encoded_category)"
   ]
  },
  {
   "cell_type": "code",
   "execution_count": 23,
   "metadata": {},
   "outputs": [
    {
     "name": "stdout",
     "output_type": "stream",
     "text": [
      "Train...\n",
      "Train on 20 samples\n",
      "Epoch 1/50\n",
      "20/20 [==============================] - 2s 116ms/sample - loss: 0.6947 - accuracy: 0.4000\n",
      "Epoch 2/50\n",
      "20/20 [==============================] - 0s 5ms/sample - loss: 0.6937 - accuracy: 0.5000\n",
      "Epoch 3/50\n",
      "20/20 [==============================] - 0s 4ms/sample - loss: 0.6929 - accuracy: 0.5000\n",
      "Epoch 4/50\n",
      "20/20 [==============================] - 0s 5ms/sample - loss: 0.6927 - accuracy: 0.5000\n",
      "Epoch 5/50\n",
      "20/20 [==============================] - 0s 6ms/sample - loss: 0.6923 - accuracy: 0.5000\n",
      "Epoch 6/50\n",
      "20/20 [==============================] - 0s 5ms/sample - loss: 0.6919 - accuracy: 0.4500\n",
      "Epoch 7/50\n",
      "20/20 [==============================] - 0s 5ms/sample - loss: 0.6916 - accuracy: 0.5000\n",
      "Epoch 8/50\n",
      "20/20 [==============================] - 0s 7ms/sample - loss: 0.6909 - accuracy: 0.6000\n",
      "Epoch 9/50\n",
      "20/20 [==============================] - 0s 6ms/sample - loss: 0.6903 - accuracy: 0.6000\n",
      "Epoch 10/50\n",
      "20/20 [==============================] - 0s 7ms/sample - loss: 0.6900 - accuracy: 0.6000\n",
      "Epoch 11/50\n",
      "20/20 [==============================] - 0s 10ms/sample - loss: 0.6886 - accuracy: 0.6000\n",
      "Epoch 12/50\n",
      "20/20 [==============================] - 0s 6ms/sample - loss: 0.6877 - accuracy: 0.6000\n",
      "Epoch 13/50\n",
      "20/20 [==============================] - 0s 5ms/sample - loss: 0.6856 - accuracy: 0.6000\n",
      "Epoch 14/50\n",
      "20/20 [==============================] - 0s 10ms/sample - loss: 0.6838 - accuracy: 0.3500\n",
      "Epoch 15/50\n",
      "20/20 [==============================] - 0s 6ms/sample - loss: 0.6752 - accuracy: 0.5000\n",
      "Epoch 16/50\n",
      "20/20 [==============================] - 0s 6ms/sample - loss: 0.6604 - accuracy: 0.5000\n",
      "Epoch 17/50\n",
      "20/20 [==============================] - 0s 7ms/sample - loss: 0.6363 - accuracy: 0.6000\n",
      "Epoch 18/50\n",
      "20/20 [==============================] - 0s 6ms/sample - loss: 0.5737 - accuracy: 0.5500\n",
      "Epoch 19/50\n",
      "20/20 [==============================] - 0s 5ms/sample - loss: 0.6258 - accuracy: 0.6500\n",
      "Epoch 20/50\n",
      "20/20 [==============================] - 0s 6ms/sample - loss: 0.5150 - accuracy: 0.8500\n",
      "Epoch 21/50\n",
      "20/20 [==============================] - 0s 5ms/sample - loss: 0.6165 - accuracy: 0.7000\n",
      "Epoch 22/50\n",
      "20/20 [==============================] - 0s 5ms/sample - loss: 0.6410 - accuracy: 0.6000\n",
      "Epoch 23/50\n",
      "20/20 [==============================] - 0s 5ms/sample - loss: 0.6429 - accuracy: 0.6000\n",
      "Epoch 24/50\n",
      "20/20 [==============================] - 0s 5ms/sample - loss: 0.6436 - accuracy: 0.6000\n",
      "Epoch 25/50\n",
      "20/20 [==============================] - 0s 7ms/sample - loss: 0.6364 - accuracy: 0.6000\n",
      "Epoch 26/50\n",
      "20/20 [==============================] - 0s 6ms/sample - loss: 0.6259 - accuracy: 0.6000\n",
      "Epoch 27/50\n",
      "20/20 [==============================] - 0s 6ms/sample - loss: 0.6111 - accuracy: 0.6000\n",
      "Epoch 28/50\n",
      "20/20 [==============================] - 0s 6ms/sample - loss: 0.5835 - accuracy: 0.6500\n",
      "Epoch 29/50\n",
      "20/20 [==============================] - 0s 8ms/sample - loss: 0.4890 - accuracy: 0.8000\n",
      "Epoch 30/50\n",
      "20/20 [==============================] - 0s 7ms/sample - loss: 0.3917 - accuracy: 0.8500\n",
      "Epoch 31/50\n",
      "20/20 [==============================] - 0s 4ms/sample - loss: 0.2942 - accuracy: 0.8500\n",
      "Epoch 32/50\n",
      "20/20 [==============================] - 0s 6ms/sample - loss: 0.1505 - accuracy: 1.0000\n",
      "Epoch 33/50\n",
      "20/20 [==============================] - 0s 5ms/sample - loss: 0.1108 - accuracy: 1.0000\n",
      "Epoch 34/50\n",
      "20/20 [==============================] - 0s 5ms/sample - loss: 0.0736 - accuracy: 1.0000\n",
      "Epoch 35/50\n",
      "20/20 [==============================] - 0s 5ms/sample - loss: 0.0490 - accuracy: 1.0000\n",
      "Epoch 36/50\n",
      "20/20 [==============================] - 0s 6ms/sample - loss: 0.0247 - accuracy: 1.0000\n",
      "Epoch 37/50\n",
      "20/20 [==============================] - 0s 7ms/sample - loss: 0.0113 - accuracy: 1.0000\n",
      "Epoch 38/50\n",
      "20/20 [==============================] - 0s 7ms/sample - loss: 0.0048 - accuracy: 1.0000\n",
      "Epoch 39/50\n",
      "20/20 [==============================] - 0s 7ms/sample - loss: 0.0026 - accuracy: 1.0000\n",
      "Epoch 40/50\n",
      "20/20 [==============================] - 0s 7ms/sample - loss: 0.0019 - accuracy: 1.0000\n",
      "Epoch 41/50\n",
      "20/20 [==============================] - 0s 9ms/sample - loss: 0.0015 - accuracy: 1.0000\n",
      "Epoch 42/50\n",
      "20/20 [==============================] - 0s 8ms/sample - loss: 0.0014 - accuracy: 1.0000\n",
      "Epoch 43/50\n",
      "20/20 [==============================] - 0s 5ms/sample - loss: 0.0012 - accuracy: 1.0000\n",
      "Epoch 44/50\n",
      "20/20 [==============================] - 0s 5ms/sample - loss: 0.0011 - accuracy: 1.0000\n",
      "Epoch 45/50\n",
      "20/20 [==============================] - 0s 5ms/sample - loss: 0.0011 - accuracy: 1.0000\n",
      "Epoch 46/50\n",
      "20/20 [==============================] - 0s 4ms/sample - loss: 9.7855e-04 - accuracy: 1.0000\n",
      "Epoch 47/50\n",
      "20/20 [==============================] - 0s 5ms/sample - loss: 8.9819e-04 - accuracy: 1.0000\n",
      "Epoch 48/50\n",
      "20/20 [==============================] - 0s 5ms/sample - loss: 8.2182e-04 - accuracy: 1.0000\n",
      "Epoch 49/50\n",
      "20/20 [==============================] - 0s 5ms/sample - loss: 7.5786e-04 - accuracy: 1.0000\n",
      "Epoch 50/50\n",
      "20/20 [==============================] - 0s 5ms/sample - loss: 7.0338e-04 - accuracy: 1.0000\n"
     ]
    },
    {
     "data": {
      "text/plain": [
       "<tensorflow.python.keras.callbacks.History at 0x1299927f0>"
      ]
     },
     "execution_count": 23,
     "metadata": {},
     "output_type": "execute_result"
    }
   ],
   "source": [
    "print('Train...')\n",
    "model.fit(train_X, train_Y,batch_size=10,epochs=50)"
   ]
  },
  {
   "cell_type": "code",
   "execution_count": 24,
   "metadata": {},
   "outputs": [
    {
     "name": "stdout",
     "output_type": "stream",
     "text": [
      "20/1 - 1s - loss: 6.6217e-04 - accuracy: 1.0000\n",
      "Test score: 0.0006621706997975707\n",
      "Test accuracy: 1.0\n"
     ]
    }
   ],
   "source": [
    "score, acc = model.evaluate(train_X, train_Y, verbose=2)\n",
    "print('Test score:', score)\n",
    "print('Test accuracy:', acc)"
   ]
  },
  {
   "cell_type": "markdown",
   "metadata": {},
   "source": [
    "모든 지문들이 충분히 학습되어, 학습 정확도가 100%인 것을 확인할 수 있습니다."
   ]
  },
  {
   "cell_type": "markdown",
   "metadata": {},
   "source": [
    "# 모델 요약\n",
    "모델에 대한 간략한 요약은 다음과 같습니다.  \n",
    "[문맥 벡터 생성]  \n",
    "입력값은 단어들의 인덱스이며, 그 길이는 항상 91입니다.  \n",
    "임베딩 레이어는 인덱스를 받아, 5차원 벡터의 임베딩을 출력합니다.  \n",
    "LSTM 셀은 64차원 벡터의 상태값을 출력합니다.  \n",
    "\n",
    "[문맥 벡터를 사용하여 지문의 주제 분류하기]  \n",
    "주제 분류는 두개의 dense layer를 사용합니다.  \n",
    "첫번째 dense layer는 32개의 노드를 가지고 있습니다.  \n",
    "두번째 dense layer는 2개의 노드를 가지고 있으며, 이 2개의 노드는 소프트맥스의 입력값으로 들어갑니다.  \n",
    "소프트맥스는 각 분류값에 해당할 확률을 출력합니다."
   ]
  },
  {
   "cell_type": "code",
   "execution_count": 25,
   "metadata": {},
   "outputs": [
    {
     "name": "stdout",
     "output_type": "stream",
     "text": [
      "Model: \"sequential\"\n",
      "_________________________________________________________________\n",
      "Layer (type)                 Output Shape              Param #   \n",
      "=================================================================\n",
      "embedding (Embedding)        (None, 91, 5)             2680      \n",
      "_________________________________________________________________\n",
      "lstm (LSTM)                  (None, 64)                17920     \n",
      "_________________________________________________________________\n",
      "dense (Dense)                (None, 32)                2080      \n",
      "_________________________________________________________________\n",
      "dense_1 (Dense)              (None, 2)                 66        \n",
      "=================================================================\n",
      "Total params: 22,746\n",
      "Trainable params: 22,746\n",
      "Non-trainable params: 0\n",
      "_________________________________________________________________\n"
     ]
    }
   ],
   "source": [
    "model.summary()"
   ]
  },
  {
   "cell_type": "markdown",
   "metadata": {},
   "source": [
    "# 참고자료\n",
    "arXiv:1708.00107 [cs.CL]  [https://arxiv.org/abs/1708.00107]  \n",
    "Learned in Translation: Contextualized Word Vectors  \n",
    "Bryan McCann, James Bradbury, Caiming Xiong, Richard Socher"
   ]
  }
 ],
 "metadata": {
  "kernelspec": {
   "display_name": "Python 3",
   "language": "python",
   "name": "python3"
  },
  "language_info": {
   "codemirror_mode": {
    "name": "ipython",
    "version": 3
   },
   "file_extension": ".py",
   "mimetype": "text/x-python",
   "name": "python",
   "nbconvert_exporter": "python",
   "pygments_lexer": "ipython3",
   "version": "3.6.4"
  }
 },
 "nbformat": 4,
 "nbformat_minor": 2
}
