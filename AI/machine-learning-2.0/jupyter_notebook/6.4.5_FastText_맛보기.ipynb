{
 "cells": [
  {
   "cell_type": "markdown",
   "metadata": {},
   "source": [
    "<a href=\"https://colab.research.google.com/github/wikibook/machine-learning/blob/2.0/jupyter_notebook/6.4.5_FastText_맛보기.ipynb\" target=\"_parent\"><img src=\"https://colab.research.google.com/assets/colab-badge.svg\" alt=\"Open In Colab\"/></a>"
   ]
  },
  {
   "cell_type": "code",
   "execution_count": 1,
   "metadata": {},
   "outputs": [],
   "source": [
    "from gensim.models.fasttext import FastText as FT_gensim"
   ]
  },
  {
   "cell_type": "code",
   "execution_count": 2,
   "metadata": {},
   "outputs": [],
   "source": [
    "# 샘플 텍스트\n",
    "texts = [\n",
    "    ['smart', 'student', 'college'],\n",
    "    ['phone', 'call'],\n",
    "    ['phone', 'talk', 'friend'],\n",
    "    ['phone', 'chat', 'friend'],\n",
    "    ['smart', 'girl', 'intelligent'],\n",
    "    ['smart', 'idea']\n",
    "]"
   ]
  },
  {
   "cell_type": "code",
   "execution_count": 4,
   "metadata": {},
   "outputs": [],
   "source": [
    "# FastText 학습\n",
    "model = FT_gensim(size=2, window=2, min_count=1)  # instantiate\n",
    "model.build_vocab(sentences=texts)\n",
    "model.train(sentences=texts, total_examples=len(texts), epochs=100)  # train"
   ]
  },
  {
   "cell_type": "code",
   "execution_count": 5,
   "metadata": {},
   "outputs": [
    {
     "data": {
      "text/plain": [
       "array([ 0.01219219, -0.08907053], dtype=float32)"
      ]
     },
     "execution_count": 5,
     "metadata": {},
     "output_type": "execute_result"
    }
   ],
   "source": [
    "# smartphone 백터값 출력하기\n",
    "model.wv['smartphone']"
   ]
  },
  {
   "cell_type": "code",
   "execution_count": 6,
   "metadata": {},
   "outputs": [
    {
     "data": {
      "text/plain": [
       "[('chat', 0.9482211470603943),\n",
       " ('phone', 0.5245809555053711),\n",
       " ('smart', 0.07587411254644394)]"
      ]
     },
     "execution_count": 6,
     "metadata": {},
     "output_type": "execute_result"
    }
   ],
   "source": [
    "# 학습되지 않은 단어 테스트\n",
    "model.wv.most_similar(positive=['smartphone'], topn=3)"
   ]
  },
  {
   "cell_type": "code",
   "execution_count": 7,
   "metadata": {},
   "outputs": [
    {
     "data": {
      "text/plain": [
       "[('friend', 0.999731719493866),\n",
       " ('idea', 0.900657057762146),\n",
       " ('student', 0.7965735793113708)]"
      ]
     },
     "execution_count": 7,
     "metadata": {},
     "output_type": "execute_result"
    }
   ],
   "source": [
    "# 학습되지 않은 단어 테스트\n",
    "model.wv.most_similar(positive=['friends'], topn=3)"
   ]
  },
  {
   "cell_type": "code",
   "execution_count": 8,
   "metadata": {},
   "outputs": [
    {
     "data": {
      "text/plain": [
       "[('intelligent', 0.9979459047317505),\n",
       " ('student', 0.9972007274627686),\n",
       " ('idea', 0.9625569581985474)]"
      ]
     },
     "execution_count": 8,
     "metadata": {},
     "output_type": "execute_result"
    }
   ],
   "source": [
    "# 학습된 단어 테스트\n",
    "model.wv.most_similar(positive=['girl'], topn=3)"
   ]
  },
  {
   "cell_type": "code",
   "execution_count": null,
   "metadata": {},
   "outputs": [],
   "source": []
  }
 ],
 "metadata": {
  "kernelspec": {
   "display_name": "Python 3",
   "language": "python",
   "name": "python3"
  },
  "language_info": {
   "codemirror_mode": {
    "name": "ipython",
    "version": 3
   },
   "file_extension": ".py",
   "mimetype": "text/x-python",
   "name": "python",
   "nbconvert_exporter": "python",
   "pygments_lexer": "ipython3",
   "version": "3.6.4"
  }
 },
 "nbformat": 4,
 "nbformat_minor": 2
}
