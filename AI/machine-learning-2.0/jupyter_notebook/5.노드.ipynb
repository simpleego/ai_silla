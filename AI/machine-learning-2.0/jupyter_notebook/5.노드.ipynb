{
 "cells": [
  {
   "cell_type": "markdown",
   "metadata": {},
   "source": [
    "<a href=\"https://colab.research.google.com/github/wikibook/machine-learning/blob/2.0/jupyter_notebook/5.노드.ipynb\" target=\"_parent\"><img src=\"https://colab.research.google.com/assets/colab-badge.svg\" alt=\"Open In Colab\"/></a>"
   ]
  },
  {
   "cell_type": "markdown",
   "metadata": {},
   "source": [
    "# 노드\n",
    "딥러닝의 노드 하나로도 간단한 AND, OR 논리 연산이 가능합니다.  \n",
    "이번 실습에서는 노드 하나를 구성하여 AND, OR 연산 기능을 만들어보도록 하겠습니다."
   ]
  },
  {
   "cell_type": "code",
   "execution_count": 5,
   "metadata": {},
   "outputs": [],
   "source": [
    "from __future__ import absolute_import, division, print_function, unicode_literals\n",
    "\n",
    "try:\n",
    "  %tensorflow_version 2.x\n",
    "except Exception:\n",
    "  pass"
   ]
  },
  {
   "cell_type": "code",
   "execution_count": 1,
   "metadata": {},
   "outputs": [],
   "source": [
    "import tensorflow as tf\n",
    "import numpy as np\n",
    "\n",
    "# 항상 같은 결과를 갖기 위해 랜덤 시드 설정\n",
    "tf.random.set_seed(1)\n",
    "np.random.seed(1)"
   ]
  },
  {
   "cell_type": "code",
   "execution_count": 2,
   "metadata": {},
   "outputs": [],
   "source": [
    "class Node:\n",
    "    def __init__(self):\n",
    "        self.w = tf.Variable(tf.random.normal([2, 1]))\n",
    "        self.b = tf.Variable(tf.random.normal([1, 1]))\n",
    "        \n",
    "    def __call__(self, x):\n",
    "        return self.preds(x)\n",
    "    \n",
    "    def preds(self,x):\n",
    "        # 순전파 (forward propagation)\n",
    "        out = tf.matmul(x,self.w)\n",
    "        out = tf.add(out, self.b)\n",
    "        out = tf.nn.sigmoid(out)\n",
    "        return out\n",
    "    \n",
    "    def loss(self,y_pred, y):\n",
    "        return tf.reduce_mean(tf.square(y_pred - y))\n",
    "   \n",
    "    def train(self, inputs, outputs, learning_rate):\n",
    "        epochs = range(10000)\n",
    "        for epoch in epochs:\n",
    "            with tf.GradientTape() as t:\n",
    "                current_loss = self.loss(self.preds(inputs), outputs)\n",
    "                # 역전파 (back propagation)\n",
    "                dW, db = t.gradient(current_loss, [self.w, self.b])\n",
    "                self.w.assign_sub(learning_rate * dW)\n",
    "                self.b.assign_sub(learning_rate * db)"
   ]
  },
  {
   "cell_type": "code",
   "execution_count": 3,
   "metadata": {},
   "outputs": [],
   "source": [
    "# AND operation\n",
    "inputs = tf.constant([[0.0,0.0], [0.0,1.0], [1.0,0.0], [1.0,1.0]])\n",
    "outputs = tf.constant([[0.0], [0.0], [0.0], [1.0]])\n",
    "\n",
    "node = Node()\n",
    "# train\n",
    "node.train(inputs, outputs, 0.01)\n",
    "# test\n",
    "assert node([[0.0,0.0]]).numpy()[0][0] < 0.5\n",
    "assert node([[0.0,1.0]]).numpy()[0][0] < 0.5\n",
    "assert node([[1.0,0.0]]).numpy()[0][0] < 0.5\n",
    "assert node([[1.0,1.0]]).numpy()[0][0] >= 0.5"
   ]
  },
  {
   "cell_type": "code",
   "execution_count": 4,
   "metadata": {},
   "outputs": [],
   "source": [
    "# OR operation\n",
    "inputs = tf.constant([[0.0,0.0], [0.0,1.0], [1.0,0.0], [1.0,1.0]])\n",
    "outputs = tf.constant([[0.0], [1.0], [1.0], [1.0]])\n",
    "\n",
    "node = Node()\n",
    "# train\n",
    "node.train(inputs, outputs, 0.01)\n",
    "# test\n",
    "assert node([[0.0,0.0]]).numpy()[0][0] < 0.5\n",
    "assert node([[0.0,1.0]]).numpy()[0][0] >= 0.5\n",
    "assert node([[1.0,0.0]]).numpy()[0][0] >= 0.5\n",
    "assert node([[1.0,1.0]]).numpy()[0][0] >= 0.5"
   ]
  }
 ],
 "metadata": {
  "kernelspec": {
   "display_name": "Python 3",
   "language": "python",
   "name": "python3"
  },
  "language_info": {
   "codemirror_mode": {
    "name": "ipython",
    "version": 3
   },
   "file_extension": ".py",
   "mimetype": "text/x-python",
   "name": "python",
   "nbconvert_exporter": "python",
   "pygments_lexer": "ipython3",
   "version": "3.6.4"
  }
 },
 "nbformat": 4,
 "nbformat_minor": 2
}
