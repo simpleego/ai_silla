{
 "cells": [
  {
   "cell_type": "markdown",
   "metadata": {},
   "source": [
    "<a href=\"https://colab.research.google.com/github/wikibook/machine-learning/blob/2.0/jupyter_notebook/5.다층퍼셉트론_XOR_실습.ipynb\" target=\"_parent\"><img src=\"https://colab.research.google.com/assets/colab-badge.svg\" alt=\"Open In Colab\"/></a>"
   ]
  },
  {
   "cell_type": "markdown",
   "metadata": {},
   "source": [
    "# 다층퍼셉트론 XOR 실습"
   ]
  },
  {
   "cell_type": "markdown",
   "metadata": {},
   "source": [
    "텐서플로우로 직접 다층퍼셉트론을 구현하여 XOR 연산을 다뤄보겠습니다."
   ]
  },
  {
   "cell_type": "markdown",
   "metadata": {},
   "source": [
    "# 라이브러리 임포트"
   ]
  },
  {
   "cell_type": "code",
   "execution_count": 1,
   "metadata": {},
   "outputs": [],
   "source": [
    "from __future__ import absolute_import, division, print_function, unicode_literals\n",
    "\n",
    "try:\n",
    "  %tensorflow_version 2.x\n",
    "except Exception:\n",
    "  pass\n",
    "\n",
    "import tensorflow as tf\n",
    "from tensorflow.keras.layers import Dense\n",
    "from tensorflow.keras.models import Sequential\n",
    "# 항상 같은 결과를 갖기 위해 랜덤 시드 설정\n",
    "tf.random.set_seed(678)\n",
    "\n",
    "import numpy as np"
   ]
  },
  {
   "cell_type": "code",
   "execution_count": 2,
   "metadata": {},
   "outputs": [
    {
     "name": "stdout",
     "output_type": "stream",
     "text": [
      "2.0.0\n"
     ]
    }
   ],
   "source": [
    "print(tf.__version__)"
   ]
  },
  {
   "cell_type": "markdown",
   "metadata": {},
   "source": [
    "# 텐서플로우 그래프 정의하기\n",
    "가장 먼저 입력 레이어를 정의하겠습니다.  \n",
    "XOR 연산 입력 데이터를 X, 결과값을 y라고 정의하겠습니다.  \n",
    "\n",
    "XOR 연산을 위해 입력값 X는 아래와 같이 [4,2]의 형태를 갖습니다.\n",
    "  \n",
    "[0, 0],  \n",
    "[0, 1],  \n",
    "[1, 0],  \n",
    "[1, 1]  \n",
    "\n",
    "입력값에 따른 출력값 y는 [4,1]의 형태를 갖습니다.    \n",
    "[0,1,1,0]  "
   ]
  },
  {
   "cell_type": "code",
   "execution_count": 3,
   "metadata": {},
   "outputs": [],
   "source": [
    "X = np.array([[0.,0.],[0.,1.],[1.,0.],[1.,1.]])\n",
    "y = np.array([0.,1.,1.,0.])"
   ]
  },
  {
   "cell_type": "markdown",
   "metadata": {},
   "source": [
    "# 모델 생성"
   ]
  },
  {
   "cell_type": "code",
   "execution_count": 4,
   "metadata": {},
   "outputs": [],
   "source": [
    "model = Sequential()\n",
    "# 첫번째 히든 레이어\n",
    "model.add(Dense(units=2,activation='sigmoid',input_dim=2))\n",
    "# 두번째 히든 레이어\n",
    "model.add(Dense(units=1,activation='sigmoid'))"
   ]
  },
  {
   "cell_type": "code",
   "execution_count": 5,
   "metadata": {},
   "outputs": [],
   "source": [
    "# 손실 함수 및 최적화 정의\n",
    "model.compile(loss='binary_crossentropy',optimizer='sgd',metrics=['accuracy'])"
   ]
  },
  {
   "cell_type": "code",
   "execution_count": 6,
   "metadata": {},
   "outputs": [
    {
     "name": "stdout",
     "output_type": "stream",
     "text": [
      "Model: \"sequential\"\n",
      "_________________________________________________________________\n",
      "Layer (type)                 Output Shape              Param #   \n",
      "=================================================================\n",
      "dense (Dense)                (None, 2)                 6         \n",
      "_________________________________________________________________\n",
      "dense_1 (Dense)              (None, 1)                 3         \n",
      "=================================================================\n",
      "Total params: 9\n",
      "Trainable params: 9\n",
      "Non-trainable params: 0\n",
      "_________________________________________________________________\n",
      "None\n"
     ]
    }
   ],
   "source": [
    "# 모델 요약\n",
    "print(model.summary())"
   ]
  },
  {
   "cell_type": "markdown",
   "metadata": {},
   "source": [
    "# 모델 학습"
   ]
  },
  {
   "cell_type": "code",
   "execution_count": 7,
   "metadata": {},
   "outputs": [
    {
     "data": {
      "text/plain": [
       "<tensorflow.python.keras.callbacks.History at 0x64006f410>"
      ]
     },
     "execution_count": 7,
     "metadata": {},
     "output_type": "execute_result"
    }
   ],
   "source": [
    "# 모델 학습, 10분 정도 걸립니다. 모델 학습 진행 상황을 보시려면 verbose=1로 수정해주세요.\n",
    "model.fit(X,y,epochs=50000,batch_size=4,verbose=0)"
   ]
  },
  {
   "cell_type": "markdown",
   "metadata": {},
   "source": [
    "# 테스트\n",
    "학습 결과를 통해, [0,0], [1,1]은 0에 가까운 값을 출력하고,  \n",
    "[0,1], [1,0]은 1에 가까운 값을 출력하는 것을 확인할 수 있습니다."
   ]
  },
  {
   "cell_type": "code",
   "execution_count": 17,
   "metadata": {},
   "outputs": [
    {
     "name": "stdout",
     "output_type": "stream",
     "text": [
      "[[0.06190902]\n",
      " [0.94067526]\n",
      " [0.9409089 ]\n",
      " [0.07283714]]\n"
     ]
    }
   ],
   "source": [
    "print(model.predict(X,batch_size=4))"
   ]
  },
  {
   "cell_type": "markdown",
   "metadata": {},
   "source": [
    "# 첫번째 레이어 파라미터 확인\n",
    "첫째 노드의 가중치는 3.5567362, 3.5493941, 편향값은 -5.40607입니다.  \n",
    "둘째 노드의 가중치는 5.79164, 5.742752, 편향값은 -2.329901입니다."
   ]
  },
  {
   "cell_type": "code",
   "execution_count": 18,
   "metadata": {},
   "outputs": [
    {
     "name": "stdout",
     "output_type": "stream",
     "text": [
      "first layer weights:  [[3.5567362 5.79164  ]\n",
      " [3.5493941 5.742752 ]]\n",
      "first layer bias:  [-5.40607  -2.329901]\n"
     ]
    }
   ],
   "source": [
    "print(\"first layer weights: \",model.layers[0].get_weights()[0])\n",
    "print(\"first layer bias: \",model.layers[0].get_weights()[1])"
   ]
  },
  {
   "cell_type": "markdown",
   "metadata": {},
   "source": [
    "# 두번째 레이어 파라미터 확인\n",
    "두번째 레이어에는 노드가 한개만 있고, 그 노드의 가중치는 -7.801387, 편향값은 -3.3388188입니다."
   ]
  },
  {
   "cell_type": "code",
   "execution_count": 19,
   "metadata": {},
   "outputs": [
    {
     "name": "stdout",
     "output_type": "stream",
     "text": [
      "second layer weights:  [[-7.801387 ]\n",
      " [ 7.3920655]]\n",
      "second layer bias:  [-3.3388188]\n"
     ]
    }
   ],
   "source": [
    "print(\"second layer weights: \",model.layers[1].get_weights()[0])\n",
    "print(\"second layer bias: \",model.layers[1].get_weights()[1])"
   ]
  },
  {
   "cell_type": "markdown",
   "metadata": {},
   "source": [
    "# 직접 계산해보기\n",
    "학습을 통해 구한 가중치와 편향값을 사용하여, 직접 결과를 계산해보는 실습을 해보겠습니다.  \n",
    "직접 계산한 결과값이 model.predict와 일치하는 것을 확인할 수 있습니다."
   ]
  },
  {
   "cell_type": "code",
   "execution_count": 20,
   "metadata": {},
   "outputs": [],
   "source": [
    "import math\n",
    "\n",
    "def sigmoid(x):\n",
    "  return 1 / (1 + math.exp(-x))"
   ]
  },
  {
   "cell_type": "code",
   "execution_count": 21,
   "metadata": {},
   "outputs": [],
   "source": [
    "def get_output(x):\n",
    "    layer0 = model.layers[0]\n",
    "    # 첫번째 레이어, 첫번째 노드의 결과값\n",
    "    layer0_weights, layer0_bias = layer0.get_weights()\n",
    "    layer0_node0_weights = np.transpose(layer0_weights)[0]\n",
    "    layer0_node0_bias = layer0_bias[0]\n",
    "    layer0_node0_output = sigmoid( np.dot( x, layer0_node0_weights ) + layer0_node0_bias )\n",
    "    # 첫번째 레이어, 두번째 노드의 결과값\n",
    "    layer0_node1_weights = np.transpose(layer0_weights)[1]\n",
    "    layer0_node1_bias = layer0_bias[1]\n",
    "    layer0_node1_output = sigmoid( np.dot( x, layer0_node1_weights ) + layer0_node1_bias )\n",
    "    # 두번째 레이어 결과값\n",
    "    layer1 = model.layers[1]\n",
    "    layer1_weights, layer1_bias = layer1.get_weights()\n",
    "    layer1_output = sigmoid( np.dot( [layer0_node0_output, layer0_node1_output], layer1_weights ) + layer1_bias )\n",
    "\n",
    "    print(layer1_output)"
   ]
  },
  {
   "cell_type": "code",
   "execution_count": 22,
   "metadata": {},
   "outputs": [
    {
     "name": "stdout",
     "output_type": "stream",
     "text": [
      "0.061909028513168735\n"
     ]
    }
   ],
   "source": [
    "get_output([0,0])"
   ]
  },
  {
   "cell_type": "code",
   "execution_count": 23,
   "metadata": {},
   "outputs": [
    {
     "name": "stdout",
     "output_type": "stream",
     "text": [
      "0.9406752216593391\n"
     ]
    }
   ],
   "source": [
    "get_output([0,1])"
   ]
  },
  {
   "cell_type": "code",
   "execution_count": 24,
   "metadata": {},
   "outputs": [
    {
     "name": "stdout",
     "output_type": "stream",
     "text": [
      "0.9409089934995193\n"
     ]
    }
   ],
   "source": [
    "get_output([1,0])"
   ]
  },
  {
   "cell_type": "code",
   "execution_count": 25,
   "metadata": {},
   "outputs": [
    {
     "name": "stdout",
     "output_type": "stream",
     "text": [
      "0.07283725484720817\n"
     ]
    }
   ],
   "source": [
    "get_output([1,1])"
   ]
  },
  {
   "cell_type": "code",
   "execution_count": null,
   "metadata": {},
   "outputs": [],
   "source": []
  }
 ],
 "metadata": {
  "kernelspec": {
   "display_name": "Python 3",
   "language": "python",
   "name": "python3"
  },
  "language_info": {
   "codemirror_mode": {
    "name": "ipython",
    "version": 3
   },
   "file_extension": ".py",
   "mimetype": "text/x-python",
   "name": "python",
   "nbconvert_exporter": "python",
   "pygments_lexer": "ipython3",
   "version": "3.7.5"
  }
 },
 "nbformat": 4,
 "nbformat_minor": 2
}
